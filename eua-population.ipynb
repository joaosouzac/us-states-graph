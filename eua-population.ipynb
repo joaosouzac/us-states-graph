{
 "cells": [
  {
   "cell_type": "code",
   "execution_count": 3,
   "metadata": {},
   "outputs": [
    {
     "data": {
      "text/html": [
       "<div>\n",
       "<style scoped>\n",
       "    .dataframe tbody tr th:only-of-type {\n",
       "        vertical-align: middle;\n",
       "    }\n",
       "\n",
       "    .dataframe tbody tr th {\n",
       "        vertical-align: top;\n",
       "    }\n",
       "\n",
       "    .dataframe thead th {\n",
       "        text-align: right;\n",
       "    }\n",
       "</style>\n",
       "<table border=\"1\" class=\"dataframe\">\n",
       "  <thead>\n",
       "    <tr style=\"text-align: right;\">\n",
       "      <th></th>\n",
       "      <th>Name</th>\n",
       "      <th>Pop. 1990</th>\n",
       "      <th>Pop. 2000</th>\n",
       "      <th>Pop. 2010</th>\n",
       "      <th>Pop. 2020</th>\n",
       "      <th>Pop. 2021</th>\n",
       "    </tr>\n",
       "  </thead>\n",
       "  <tbody>\n",
       "    <tr>\n",
       "      <th>3</th>\n",
       "      <td>United States</td>\n",
       "      <td>248790925</td>\n",
       "      <td>281424600</td>\n",
       "      <td>308745538</td>\n",
       "      <td>331449281</td>\n",
       "      <td>331893745</td>\n",
       "    </tr>\n",
       "    <tr>\n",
       "      <th>4</th>\n",
       "      <td>Alabama</td>\n",
       "      <td>4040389</td>\n",
       "      <td>4447207</td>\n",
       "      <td>4779736</td>\n",
       "      <td>5024279</td>\n",
       "      <td>5039877</td>\n",
       "    </tr>\n",
       "    <tr>\n",
       "      <th>5</th>\n",
       "      <td>Alaska</td>\n",
       "      <td>550043</td>\n",
       "      <td>626933</td>\n",
       "      <td>710231</td>\n",
       "      <td>733391</td>\n",
       "      <td>732673</td>\n",
       "    </tr>\n",
       "    <tr>\n",
       "      <th>6</th>\n",
       "      <td>Arizona</td>\n",
       "      <td>3665339</td>\n",
       "      <td>5130247</td>\n",
       "      <td>6392017</td>\n",
       "      <td>7151502</td>\n",
       "      <td>7276316</td>\n",
       "    </tr>\n",
       "    <tr>\n",
       "      <th>7</th>\n",
       "      <td>Arkansas</td>\n",
       "      <td>2350624</td>\n",
       "      <td>2673293</td>\n",
       "      <td>2915918</td>\n",
       "      <td>3011524</td>\n",
       "      <td>3025891</td>\n",
       "    </tr>\n",
       "    <tr>\n",
       "      <th>8</th>\n",
       "      <td>California</td>\n",
       "      <td>29811427</td>\n",
       "      <td>33871653</td>\n",
       "      <td>37253956</td>\n",
       "      <td>39538223</td>\n",
       "      <td>39237836</td>\n",
       "    </tr>\n",
       "    <tr>\n",
       "      <th>9</th>\n",
       "      <td>Colorado</td>\n",
       "      <td>3294473</td>\n",
       "      <td>4302086</td>\n",
       "      <td>5029196</td>\n",
       "      <td>5773714</td>\n",
       "      <td>5812069</td>\n",
       "    </tr>\n",
       "    <tr>\n",
       "      <th>10</th>\n",
       "      <td>Connecticut</td>\n",
       "      <td>3287116</td>\n",
       "      <td>3405650</td>\n",
       "      <td>3574097</td>\n",
       "      <td>3605944</td>\n",
       "      <td>3605597</td>\n",
       "    </tr>\n",
       "    <tr>\n",
       "      <th>11</th>\n",
       "      <td>Delaware</td>\n",
       "      <td>666168</td>\n",
       "      <td>783559</td>\n",
       "      <td>897934</td>\n",
       "      <td>989948</td>\n",
       "      <td>1003384</td>\n",
       "    </tr>\n",
       "    <tr>\n",
       "      <th>12</th>\n",
       "      <td>District of Columbia</td>\n",
       "      <td>606900</td>\n",
       "      <td>572086</td>\n",
       "      <td>601723</td>\n",
       "      <td>689545</td>\n",
       "      <td>670050</td>\n",
       "    </tr>\n",
       "    <tr>\n",
       "      <th>13</th>\n",
       "      <td>Florida</td>\n",
       "      <td>12938071</td>\n",
       "      <td>15982571</td>\n",
       "      <td>18801310</td>\n",
       "      <td>21538187</td>\n",
       "      <td>21781128</td>\n",
       "    </tr>\n",
       "    <tr>\n",
       "      <th>14</th>\n",
       "      <td>Georgia</td>\n",
       "      <td>6478149</td>\n",
       "      <td>8186653</td>\n",
       "      <td>9687653</td>\n",
       "      <td>10711908</td>\n",
       "      <td>10799566</td>\n",
       "    </tr>\n",
       "    <tr>\n",
       "      <th>15</th>\n",
       "      <td>Hawaii</td>\n",
       "      <td>1108229</td>\n",
       "      <td>1211497</td>\n",
       "      <td>1360301</td>\n",
       "      <td>1455271</td>\n",
       "      <td>1441553</td>\n",
       "    </tr>\n",
       "    <tr>\n",
       "      <th>16</th>\n",
       "      <td>Idaho</td>\n",
       "      <td>1006734</td>\n",
       "      <td>1293957</td>\n",
       "      <td>1567582</td>\n",
       "      <td>1839106</td>\n",
       "      <td>1900923</td>\n",
       "    </tr>\n",
       "    <tr>\n",
       "      <th>17</th>\n",
       "      <td>Illinois</td>\n",
       "      <td>11430602</td>\n",
       "      <td>12419927</td>\n",
       "      <td>12830632</td>\n",
       "      <td>12812508</td>\n",
       "      <td>12671469</td>\n",
       "    </tr>\n",
       "    <tr>\n",
       "      <th>18</th>\n",
       "      <td>Indiana</td>\n",
       "      <td>5544156</td>\n",
       "      <td>6080827</td>\n",
       "      <td>6483802</td>\n",
       "      <td>6785528</td>\n",
       "      <td>6805985</td>\n",
       "    </tr>\n",
       "    <tr>\n",
       "      <th>19</th>\n",
       "      <td>Iowa</td>\n",
       "      <td>2776831</td>\n",
       "      <td>2926538</td>\n",
       "      <td>3046355</td>\n",
       "      <td>3190369</td>\n",
       "      <td>3193079</td>\n",
       "    </tr>\n",
       "    <tr>\n",
       "      <th>20</th>\n",
       "      <td>Kansas</td>\n",
       "      <td>2477588</td>\n",
       "      <td>2688925</td>\n",
       "      <td>2853118</td>\n",
       "      <td>2937880</td>\n",
       "      <td>2934582</td>\n",
       "    </tr>\n",
       "    <tr>\n",
       "      <th>21</th>\n",
       "      <td>Kentucky</td>\n",
       "      <td>3686892</td>\n",
       "      <td>4042193</td>\n",
       "      <td>4339367</td>\n",
       "      <td>4505836</td>\n",
       "      <td>4509394</td>\n",
       "    </tr>\n",
       "    <tr>\n",
       "      <th>22</th>\n",
       "      <td>Louisiana</td>\n",
       "      <td>4221826</td>\n",
       "      <td>4469035</td>\n",
       "      <td>4533372</td>\n",
       "      <td>4657757</td>\n",
       "      <td>4624047</td>\n",
       "    </tr>\n",
       "    <tr>\n",
       "      <th>23</th>\n",
       "      <td>Maine</td>\n",
       "      <td>1227928</td>\n",
       "      <td>1274779</td>\n",
       "      <td>1328361</td>\n",
       "      <td>1362359</td>\n",
       "      <td>1372247</td>\n",
       "    </tr>\n",
       "    <tr>\n",
       "      <th>24</th>\n",
       "      <td>Maryland</td>\n",
       "      <td>4780753</td>\n",
       "      <td>5296647</td>\n",
       "      <td>5773552</td>\n",
       "      <td>6177224</td>\n",
       "      <td>6165129</td>\n",
       "    </tr>\n",
       "    <tr>\n",
       "      <th>25</th>\n",
       "      <td>Massachusetts</td>\n",
       "      <td>6016425</td>\n",
       "      <td>6349364</td>\n",
       "      <td>6547629</td>\n",
       "      <td>7029917</td>\n",
       "      <td>6984723</td>\n",
       "    </tr>\n",
       "    <tr>\n",
       "      <th>26</th>\n",
       "      <td>Michigan</td>\n",
       "      <td>9295287</td>\n",
       "      <td>9938823</td>\n",
       "      <td>9883640</td>\n",
       "      <td>10077331</td>\n",
       "      <td>10050811</td>\n",
       "    </tr>\n",
       "    <tr>\n",
       "      <th>27</th>\n",
       "      <td>Minnesota</td>\n",
       "      <td>4375665</td>\n",
       "      <td>4919631</td>\n",
       "      <td>5303925</td>\n",
       "      <td>5706494</td>\n",
       "      <td>5707390</td>\n",
       "    </tr>\n",
       "    <tr>\n",
       "      <th>28</th>\n",
       "      <td>Mississippi</td>\n",
       "      <td>2575475</td>\n",
       "      <td>2844754</td>\n",
       "      <td>2967297</td>\n",
       "      <td>2961279</td>\n",
       "      <td>2949965</td>\n",
       "    </tr>\n",
       "    <tr>\n",
       "      <th>29</th>\n",
       "      <td>Missouri</td>\n",
       "      <td>5116901</td>\n",
       "      <td>5596564</td>\n",
       "      <td>5988927</td>\n",
       "      <td>6154913</td>\n",
       "      <td>6168187</td>\n",
       "    </tr>\n",
       "    <tr>\n",
       "      <th>30</th>\n",
       "      <td>Montana</td>\n",
       "      <td>799065</td>\n",
       "      <td>902200</td>\n",
       "      <td>989415</td>\n",
       "      <td>1084225</td>\n",
       "      <td>1104271</td>\n",
       "    </tr>\n",
       "    <tr>\n",
       "      <th>31</th>\n",
       "      <td>Nebraska</td>\n",
       "      <td>1578417</td>\n",
       "      <td>1711230</td>\n",
       "      <td>1826341</td>\n",
       "      <td>1961504</td>\n",
       "      <td>1963692</td>\n",
       "    </tr>\n",
       "    <tr>\n",
       "      <th>32</th>\n",
       "      <td>Nevada</td>\n",
       "      <td>1201675</td>\n",
       "      <td>1998250</td>\n",
       "      <td>2700551</td>\n",
       "      <td>3104614</td>\n",
       "      <td>3143991</td>\n",
       "    </tr>\n",
       "    <tr>\n",
       "      <th>33</th>\n",
       "      <td>New Hampshire</td>\n",
       "      <td>1109252</td>\n",
       "      <td>1235807</td>\n",
       "      <td>1316470</td>\n",
       "      <td>1377529</td>\n",
       "      <td>1388992</td>\n",
       "    </tr>\n",
       "    <tr>\n",
       "      <th>34</th>\n",
       "      <td>New Jersey</td>\n",
       "      <td>7747750</td>\n",
       "      <td>8414764</td>\n",
       "      <td>8791894</td>\n",
       "      <td>9288994</td>\n",
       "      <td>9267130</td>\n",
       "    </tr>\n",
       "    <tr>\n",
       "      <th>35</th>\n",
       "      <td>New Mexico</td>\n",
       "      <td>1515069</td>\n",
       "      <td>1819017</td>\n",
       "      <td>2059179</td>\n",
       "      <td>2117522</td>\n",
       "      <td>2115877</td>\n",
       "    </tr>\n",
       "    <tr>\n",
       "      <th>36</th>\n",
       "      <td>New York</td>\n",
       "      <td>17990778</td>\n",
       "      <td>18977026</td>\n",
       "      <td>19378102</td>\n",
       "      <td>20201249</td>\n",
       "      <td>19835913</td>\n",
       "    </tr>\n",
       "    <tr>\n",
       "      <th>37</th>\n",
       "      <td>North Carolina</td>\n",
       "      <td>6632448</td>\n",
       "      <td>8046346</td>\n",
       "      <td>9535483</td>\n",
       "      <td>10439388</td>\n",
       "      <td>10551162</td>\n",
       "    </tr>\n",
       "    <tr>\n",
       "      <th>38</th>\n",
       "      <td>North Dakota</td>\n",
       "      <td>638800</td>\n",
       "      <td>642237</td>\n",
       "      <td>672591</td>\n",
       "      <td>779094</td>\n",
       "      <td>774948</td>\n",
       "    </tr>\n",
       "    <tr>\n",
       "      <th>39</th>\n",
       "      <td>Ohio</td>\n",
       "      <td>10847115</td>\n",
       "      <td>11353336</td>\n",
       "      <td>11536504</td>\n",
       "      <td>11799448</td>\n",
       "      <td>11780017</td>\n",
       "    </tr>\n",
       "    <tr>\n",
       "      <th>40</th>\n",
       "      <td>Oklahoma</td>\n",
       "      <td>3145576</td>\n",
       "      <td>3450451</td>\n",
       "      <td>3751351</td>\n",
       "      <td>3959353</td>\n",
       "      <td>3986639</td>\n",
       "    </tr>\n",
       "    <tr>\n",
       "      <th>41</th>\n",
       "      <td>Oregon</td>\n",
       "      <td>2842337</td>\n",
       "      <td>3421524</td>\n",
       "      <td>3831074</td>\n",
       "      <td>4237256</td>\n",
       "      <td>4246155</td>\n",
       "    </tr>\n",
       "    <tr>\n",
       "      <th>42</th>\n",
       "      <td>Pennsylvania</td>\n",
       "      <td>11882842</td>\n",
       "      <td>12280548</td>\n",
       "      <td>12702379</td>\n",
       "      <td>13002700</td>\n",
       "      <td>12964056</td>\n",
       "    </tr>\n",
       "    <tr>\n",
       "      <th>43</th>\n",
       "      <td>Rhode Island</td>\n",
       "      <td>1003464</td>\n",
       "      <td>1048259</td>\n",
       "      <td>1052567</td>\n",
       "      <td>1097379</td>\n",
       "      <td>1095610</td>\n",
       "    </tr>\n",
       "    <tr>\n",
       "      <th>44</th>\n",
       "      <td>South Carolina</td>\n",
       "      <td>3486310</td>\n",
       "      <td>4012023</td>\n",
       "      <td>4625364</td>\n",
       "      <td>5118425</td>\n",
       "      <td>5190705</td>\n",
       "    </tr>\n",
       "    <tr>\n",
       "      <th>45</th>\n",
       "      <td>South Dakota</td>\n",
       "      <td>696004</td>\n",
       "      <td>754858</td>\n",
       "      <td>814180</td>\n",
       "      <td>886667</td>\n",
       "      <td>895376</td>\n",
       "    </tr>\n",
       "    <tr>\n",
       "      <th>46</th>\n",
       "      <td>Tennessee</td>\n",
       "      <td>4877203</td>\n",
       "      <td>5689427</td>\n",
       "      <td>6346105</td>\n",
       "      <td>6910840</td>\n",
       "      <td>6975218</td>\n",
       "    </tr>\n",
       "    <tr>\n",
       "      <th>47</th>\n",
       "      <td>Texas</td>\n",
       "      <td>16986335</td>\n",
       "      <td>20851028</td>\n",
       "      <td>25145561</td>\n",
       "      <td>29145505</td>\n",
       "      <td>29527941</td>\n",
       "    </tr>\n",
       "    <tr>\n",
       "      <th>48</th>\n",
       "      <td>Utah</td>\n",
       "      <td>1722850</td>\n",
       "      <td>2233183</td>\n",
       "      <td>2763885</td>\n",
       "      <td>3271616</td>\n",
       "      <td>3337975</td>\n",
       "    </tr>\n",
       "    <tr>\n",
       "      <th>49</th>\n",
       "      <td>Vermont</td>\n",
       "      <td>562758</td>\n",
       "      <td>608613</td>\n",
       "      <td>625741</td>\n",
       "      <td>643077</td>\n",
       "      <td>645570</td>\n",
       "    </tr>\n",
       "    <tr>\n",
       "      <th>50</th>\n",
       "      <td>Virginia</td>\n",
       "      <td>6189197</td>\n",
       "      <td>7079057</td>\n",
       "      <td>8001024</td>\n",
       "      <td>8631393</td>\n",
       "      <td>8642274</td>\n",
       "    </tr>\n",
       "    <tr>\n",
       "      <th>51</th>\n",
       "      <td>Washington</td>\n",
       "      <td>4866669</td>\n",
       "      <td>5894281</td>\n",
       "      <td>6724540</td>\n",
       "      <td>7705281</td>\n",
       "      <td>7738692</td>\n",
       "    </tr>\n",
       "    <tr>\n",
       "      <th>52</th>\n",
       "      <td>West Virginia</td>\n",
       "      <td>1793477</td>\n",
       "      <td>1808193</td>\n",
       "      <td>1852994</td>\n",
       "      <td>1793716</td>\n",
       "      <td>1782959</td>\n",
       "    </tr>\n",
       "    <tr>\n",
       "      <th>53</th>\n",
       "      <td>Wisconsin</td>\n",
       "      <td>4891954</td>\n",
       "      <td>5363757</td>\n",
       "      <td>5686986</td>\n",
       "      <td>5893718</td>\n",
       "      <td>5895908</td>\n",
       "    </tr>\n",
       "    <tr>\n",
       "      <th>54</th>\n",
       "      <td>Wyoming</td>\n",
       "      <td>453589</td>\n",
       "      <td>493786</td>\n",
       "      <td>563626</td>\n",
       "      <td>576851</td>\n",
       "      <td>578803</td>\n",
       "    </tr>\n",
       "    <tr>\n",
       "      <th>55</th>\n",
       "      <td>Puerto Rico</td>\n",
       "      <td>3522037</td>\n",
       "      <td>3808605</td>\n",
       "      <td>3725789</td>\n",
       "      <td>3285874</td>\n",
       "      <td>3263584</td>\n",
       "    </tr>\n",
       "  </tbody>\n",
       "</table>\n",
       "</div>"
      ],
      "text/plain": [
       "                    Name  Pop. 1990  Pop. 2000  Pop. 2010  Pop. 2020  \\\n",
       "3          United States  248790925  281424600  308745538  331449281   \n",
       "4                Alabama    4040389    4447207    4779736    5024279   \n",
       "5                 Alaska     550043     626933     710231     733391   \n",
       "6                Arizona    3665339    5130247    6392017    7151502   \n",
       "7               Arkansas    2350624    2673293    2915918    3011524   \n",
       "8             California   29811427   33871653   37253956   39538223   \n",
       "9               Colorado    3294473    4302086    5029196    5773714   \n",
       "10           Connecticut    3287116    3405650    3574097    3605944   \n",
       "11              Delaware     666168     783559     897934     989948   \n",
       "12  District of Columbia     606900     572086     601723     689545   \n",
       "13               Florida   12938071   15982571   18801310   21538187   \n",
       "14               Georgia    6478149    8186653    9687653   10711908   \n",
       "15                Hawaii    1108229    1211497    1360301    1455271   \n",
       "16                 Idaho    1006734    1293957    1567582    1839106   \n",
       "17              Illinois   11430602   12419927   12830632   12812508   \n",
       "18               Indiana    5544156    6080827    6483802    6785528   \n",
       "19                  Iowa    2776831    2926538    3046355    3190369   \n",
       "20                Kansas    2477588    2688925    2853118    2937880   \n",
       "21              Kentucky    3686892    4042193    4339367    4505836   \n",
       "22             Louisiana    4221826    4469035    4533372    4657757   \n",
       "23                 Maine    1227928    1274779    1328361    1362359   \n",
       "24              Maryland    4780753    5296647    5773552    6177224   \n",
       "25         Massachusetts    6016425    6349364    6547629    7029917   \n",
       "26              Michigan    9295287    9938823    9883640   10077331   \n",
       "27             Minnesota    4375665    4919631    5303925    5706494   \n",
       "28           Mississippi    2575475    2844754    2967297    2961279   \n",
       "29              Missouri    5116901    5596564    5988927    6154913   \n",
       "30               Montana     799065     902200     989415    1084225   \n",
       "31              Nebraska    1578417    1711230    1826341    1961504   \n",
       "32                Nevada    1201675    1998250    2700551    3104614   \n",
       "33         New Hampshire    1109252    1235807    1316470    1377529   \n",
       "34            New Jersey    7747750    8414764    8791894    9288994   \n",
       "35            New Mexico    1515069    1819017    2059179    2117522   \n",
       "36              New York   17990778   18977026   19378102   20201249   \n",
       "37        North Carolina    6632448    8046346    9535483   10439388   \n",
       "38          North Dakota     638800     642237     672591     779094   \n",
       "39                  Ohio   10847115   11353336   11536504   11799448   \n",
       "40              Oklahoma    3145576    3450451    3751351    3959353   \n",
       "41                Oregon    2842337    3421524    3831074    4237256   \n",
       "42          Pennsylvania   11882842   12280548   12702379   13002700   \n",
       "43          Rhode Island    1003464    1048259    1052567    1097379   \n",
       "44        South Carolina    3486310    4012023    4625364    5118425   \n",
       "45          South Dakota     696004     754858     814180     886667   \n",
       "46             Tennessee    4877203    5689427    6346105    6910840   \n",
       "47                 Texas   16986335   20851028   25145561   29145505   \n",
       "48                  Utah    1722850    2233183    2763885    3271616   \n",
       "49               Vermont     562758     608613     625741     643077   \n",
       "50              Virginia    6189197    7079057    8001024    8631393   \n",
       "51            Washington    4866669    5894281    6724540    7705281   \n",
       "52         West Virginia    1793477    1808193    1852994    1793716   \n",
       "53             Wisconsin    4891954    5363757    5686986    5893718   \n",
       "54               Wyoming     453589     493786     563626     576851   \n",
       "55           Puerto Rico    3522037    3808605    3725789    3285874   \n",
       "\n",
       "    Pop. 2021  \n",
       "3   331893745  \n",
       "4     5039877  \n",
       "5      732673  \n",
       "6     7276316  \n",
       "7     3025891  \n",
       "8    39237836  \n",
       "9     5812069  \n",
       "10    3605597  \n",
       "11    1003384  \n",
       "12     670050  \n",
       "13   21781128  \n",
       "14   10799566  \n",
       "15    1441553  \n",
       "16    1900923  \n",
       "17   12671469  \n",
       "18    6805985  \n",
       "19    3193079  \n",
       "20    2934582  \n",
       "21    4509394  \n",
       "22    4624047  \n",
       "23    1372247  \n",
       "24    6165129  \n",
       "25    6984723  \n",
       "26   10050811  \n",
       "27    5707390  \n",
       "28    2949965  \n",
       "29    6168187  \n",
       "30    1104271  \n",
       "31    1963692  \n",
       "32    3143991  \n",
       "33    1388992  \n",
       "34    9267130  \n",
       "35    2115877  \n",
       "36   19835913  \n",
       "37   10551162  \n",
       "38     774948  \n",
       "39   11780017  \n",
       "40    3986639  \n",
       "41    4246155  \n",
       "42   12964056  \n",
       "43    1095610  \n",
       "44    5190705  \n",
       "45     895376  \n",
       "46    6975218  \n",
       "47   29527941  \n",
       "48    3337975  \n",
       "49     645570  \n",
       "50    8642274  \n",
       "51    7738692  \n",
       "52    1782959  \n",
       "53    5895908  \n",
       "54     578803  \n",
       "55    3263584  "
      ]
     },
     "metadata": {},
     "output_type": "display_data"
    }
   ],
   "source": [
    "import pandas as pd\n",
    "import plotly.express as px\n",
    "\n",
    "\n",
    "df = pd.read_excel(\"PopulationReport.xlsx\")\n",
    "\n",
    "df = df.rename({'Unnamed: 0': 'Name', 'Unnamed: 1': 'Pop. 1990', 'Unnamed: 2': 'Pop. 2000',\n",
    "                                      'Unnamed: 3': 'Pop. 2010', 'Unnamed: 4': 'Pop. 2020', \n",
    "                                      'Unnamed: 5': 'Pop. 2021'}, axis=1)\n",
    "\n",
    "df = df.drop([2], axis=0)\n",
    "df = df.drop(['Unnamed: 6'], axis=1)\n",
    "df = df.dropna(how='any', axis=0)"
   ]
  },
  {
   "cell_type": "code",
   "execution_count": 7,
   "metadata": {},
   "outputs": [
    {
     "data": {
      "application/vnd.plotly.v1+json": {
       "config": {
        "plotlyServerURL": "https://plot.ly"
       },
       "data": [
        {
         "alignmentgroup": "True",
         "hovertemplate": "Name=%{x}<br>Pop. 2021=%{y}<extra></extra>",
         "legendgroup": "",
         "marker": {
          "color": "#636efa",
          "pattern": {
           "shape": ""
          }
         },
         "name": "",
         "offsetgroup": "",
         "orientation": "v",
         "showlegend": false,
         "textposition": "auto",
         "type": "bar",
         "x": [
          "Alabama",
          "Alaska",
          "Arizona",
          "Arkansas",
          "California",
          "Colorado",
          "Connecticut",
          "Delaware",
          "District of Columbia",
          "Florida",
          "Georgia",
          "Hawaii",
          "Idaho",
          "Illinois",
          "Indiana",
          "Iowa",
          "Kansas",
          "Kentucky",
          "Louisiana",
          "Maine",
          "Maryland",
          "Massachusetts",
          "Michigan",
          "Minnesota",
          "Mississippi",
          "Missouri",
          "Montana",
          "Nebraska",
          "Nevada",
          "New Hampshire",
          "New Jersey",
          "New Mexico",
          "New York",
          "North Carolina",
          "North Dakota",
          "Ohio",
          "Oklahoma",
          "Oregon",
          "Pennsylvania",
          "Rhode Island",
          "South Carolina",
          "South Dakota",
          "Tennessee",
          "Texas",
          "Utah",
          "Vermont",
          "Virginia",
          "Washington",
          "West Virginia",
          "Wisconsin",
          "Wyoming",
          "Puerto Rico"
         ],
         "xaxis": "x",
         "y": [
          5039877,
          732673,
          7276316,
          3025891,
          39237836,
          5812069,
          3605597,
          1003384,
          670050,
          21781128,
          10799566,
          1441553,
          1900923,
          12671469,
          6805985,
          3193079,
          2934582,
          4509394,
          4624047,
          1372247,
          6165129,
          6984723,
          10050811,
          5707390,
          2949965,
          6168187,
          1104271,
          1963692,
          3143991,
          1388992,
          9267130,
          2115877,
          19835913,
          10551162,
          774948,
          11780017,
          3986639,
          4246155,
          12964056,
          1095610,
          5190705,
          895376,
          6975218,
          29527941,
          3337975,
          645570,
          8642274,
          7738692,
          1782959,
          5895908,
          578803,
          3263584
         ],
         "yaxis": "y"
        }
       ],
       "layout": {
        "barmode": "relative",
        "legend": {
         "tracegroupgap": 0
        },
        "margin": {
         "t": 60
        },
        "template": {
         "data": {
          "bar": [
           {
            "error_x": {
             "color": "#2a3f5f"
            },
            "error_y": {
             "color": "#2a3f5f"
            },
            "marker": {
             "line": {
              "color": "#E5ECF6",
              "width": 0.5
             },
             "pattern": {
              "fillmode": "overlay",
              "size": 10,
              "solidity": 0.2
             }
            },
            "type": "bar"
           }
          ],
          "barpolar": [
           {
            "marker": {
             "line": {
              "color": "#E5ECF6",
              "width": 0.5
             },
             "pattern": {
              "fillmode": "overlay",
              "size": 10,
              "solidity": 0.2
             }
            },
            "type": "barpolar"
           }
          ],
          "carpet": [
           {
            "aaxis": {
             "endlinecolor": "#2a3f5f",
             "gridcolor": "white",
             "linecolor": "white",
             "minorgridcolor": "white",
             "startlinecolor": "#2a3f5f"
            },
            "baxis": {
             "endlinecolor": "#2a3f5f",
             "gridcolor": "white",
             "linecolor": "white",
             "minorgridcolor": "white",
             "startlinecolor": "#2a3f5f"
            },
            "type": "carpet"
           }
          ],
          "choropleth": [
           {
            "colorbar": {
             "outlinewidth": 0,
             "ticks": ""
            },
            "type": "choropleth"
           }
          ],
          "contour": [
           {
            "colorbar": {
             "outlinewidth": 0,
             "ticks": ""
            },
            "colorscale": [
             [
              0,
              "#0d0887"
             ],
             [
              0.1111111111111111,
              "#46039f"
             ],
             [
              0.2222222222222222,
              "#7201a8"
             ],
             [
              0.3333333333333333,
              "#9c179e"
             ],
             [
              0.4444444444444444,
              "#bd3786"
             ],
             [
              0.5555555555555556,
              "#d8576b"
             ],
             [
              0.6666666666666666,
              "#ed7953"
             ],
             [
              0.7777777777777778,
              "#fb9f3a"
             ],
             [
              0.8888888888888888,
              "#fdca26"
             ],
             [
              1,
              "#f0f921"
             ]
            ],
            "type": "contour"
           }
          ],
          "contourcarpet": [
           {
            "colorbar": {
             "outlinewidth": 0,
             "ticks": ""
            },
            "type": "contourcarpet"
           }
          ],
          "heatmap": [
           {
            "colorbar": {
             "outlinewidth": 0,
             "ticks": ""
            },
            "colorscale": [
             [
              0,
              "#0d0887"
             ],
             [
              0.1111111111111111,
              "#46039f"
             ],
             [
              0.2222222222222222,
              "#7201a8"
             ],
             [
              0.3333333333333333,
              "#9c179e"
             ],
             [
              0.4444444444444444,
              "#bd3786"
             ],
             [
              0.5555555555555556,
              "#d8576b"
             ],
             [
              0.6666666666666666,
              "#ed7953"
             ],
             [
              0.7777777777777778,
              "#fb9f3a"
             ],
             [
              0.8888888888888888,
              "#fdca26"
             ],
             [
              1,
              "#f0f921"
             ]
            ],
            "type": "heatmap"
           }
          ],
          "heatmapgl": [
           {
            "colorbar": {
             "outlinewidth": 0,
             "ticks": ""
            },
            "colorscale": [
             [
              0,
              "#0d0887"
             ],
             [
              0.1111111111111111,
              "#46039f"
             ],
             [
              0.2222222222222222,
              "#7201a8"
             ],
             [
              0.3333333333333333,
              "#9c179e"
             ],
             [
              0.4444444444444444,
              "#bd3786"
             ],
             [
              0.5555555555555556,
              "#d8576b"
             ],
             [
              0.6666666666666666,
              "#ed7953"
             ],
             [
              0.7777777777777778,
              "#fb9f3a"
             ],
             [
              0.8888888888888888,
              "#fdca26"
             ],
             [
              1,
              "#f0f921"
             ]
            ],
            "type": "heatmapgl"
           }
          ],
          "histogram": [
           {
            "marker": {
             "pattern": {
              "fillmode": "overlay",
              "size": 10,
              "solidity": 0.2
             }
            },
            "type": "histogram"
           }
          ],
          "histogram2d": [
           {
            "colorbar": {
             "outlinewidth": 0,
             "ticks": ""
            },
            "colorscale": [
             [
              0,
              "#0d0887"
             ],
             [
              0.1111111111111111,
              "#46039f"
             ],
             [
              0.2222222222222222,
              "#7201a8"
             ],
             [
              0.3333333333333333,
              "#9c179e"
             ],
             [
              0.4444444444444444,
              "#bd3786"
             ],
             [
              0.5555555555555556,
              "#d8576b"
             ],
             [
              0.6666666666666666,
              "#ed7953"
             ],
             [
              0.7777777777777778,
              "#fb9f3a"
             ],
             [
              0.8888888888888888,
              "#fdca26"
             ],
             [
              1,
              "#f0f921"
             ]
            ],
            "type": "histogram2d"
           }
          ],
          "histogram2dcontour": [
           {
            "colorbar": {
             "outlinewidth": 0,
             "ticks": ""
            },
            "colorscale": [
             [
              0,
              "#0d0887"
             ],
             [
              0.1111111111111111,
              "#46039f"
             ],
             [
              0.2222222222222222,
              "#7201a8"
             ],
             [
              0.3333333333333333,
              "#9c179e"
             ],
             [
              0.4444444444444444,
              "#bd3786"
             ],
             [
              0.5555555555555556,
              "#d8576b"
             ],
             [
              0.6666666666666666,
              "#ed7953"
             ],
             [
              0.7777777777777778,
              "#fb9f3a"
             ],
             [
              0.8888888888888888,
              "#fdca26"
             ],
             [
              1,
              "#f0f921"
             ]
            ],
            "type": "histogram2dcontour"
           }
          ],
          "mesh3d": [
           {
            "colorbar": {
             "outlinewidth": 0,
             "ticks": ""
            },
            "type": "mesh3d"
           }
          ],
          "parcoords": [
           {
            "line": {
             "colorbar": {
              "outlinewidth": 0,
              "ticks": ""
             }
            },
            "type": "parcoords"
           }
          ],
          "pie": [
           {
            "automargin": true,
            "type": "pie"
           }
          ],
          "scatter": [
           {
            "marker": {
             "colorbar": {
              "outlinewidth": 0,
              "ticks": ""
             }
            },
            "type": "scatter"
           }
          ],
          "scatter3d": [
           {
            "line": {
             "colorbar": {
              "outlinewidth": 0,
              "ticks": ""
             }
            },
            "marker": {
             "colorbar": {
              "outlinewidth": 0,
              "ticks": ""
             }
            },
            "type": "scatter3d"
           }
          ],
          "scattercarpet": [
           {
            "marker": {
             "colorbar": {
              "outlinewidth": 0,
              "ticks": ""
             }
            },
            "type": "scattercarpet"
           }
          ],
          "scattergeo": [
           {
            "marker": {
             "colorbar": {
              "outlinewidth": 0,
              "ticks": ""
             }
            },
            "type": "scattergeo"
           }
          ],
          "scattergl": [
           {
            "marker": {
             "colorbar": {
              "outlinewidth": 0,
              "ticks": ""
             }
            },
            "type": "scattergl"
           }
          ],
          "scattermapbox": [
           {
            "marker": {
             "colorbar": {
              "outlinewidth": 0,
              "ticks": ""
             }
            },
            "type": "scattermapbox"
           }
          ],
          "scatterpolar": [
           {
            "marker": {
             "colorbar": {
              "outlinewidth": 0,
              "ticks": ""
             }
            },
            "type": "scatterpolar"
           }
          ],
          "scatterpolargl": [
           {
            "marker": {
             "colorbar": {
              "outlinewidth": 0,
              "ticks": ""
             }
            },
            "type": "scatterpolargl"
           }
          ],
          "scatterternary": [
           {
            "marker": {
             "colorbar": {
              "outlinewidth": 0,
              "ticks": ""
             }
            },
            "type": "scatterternary"
           }
          ],
          "surface": [
           {
            "colorbar": {
             "outlinewidth": 0,
             "ticks": ""
            },
            "colorscale": [
             [
              0,
              "#0d0887"
             ],
             [
              0.1111111111111111,
              "#46039f"
             ],
             [
              0.2222222222222222,
              "#7201a8"
             ],
             [
              0.3333333333333333,
              "#9c179e"
             ],
             [
              0.4444444444444444,
              "#bd3786"
             ],
             [
              0.5555555555555556,
              "#d8576b"
             ],
             [
              0.6666666666666666,
              "#ed7953"
             ],
             [
              0.7777777777777778,
              "#fb9f3a"
             ],
             [
              0.8888888888888888,
              "#fdca26"
             ],
             [
              1,
              "#f0f921"
             ]
            ],
            "type": "surface"
           }
          ],
          "table": [
           {
            "cells": {
             "fill": {
              "color": "#EBF0F8"
             },
             "line": {
              "color": "white"
             }
            },
            "header": {
             "fill": {
              "color": "#C8D4E3"
             },
             "line": {
              "color": "white"
             }
            },
            "type": "table"
           }
          ]
         },
         "layout": {
          "annotationdefaults": {
           "arrowcolor": "#2a3f5f",
           "arrowhead": 0,
           "arrowwidth": 1
          },
          "autotypenumbers": "strict",
          "coloraxis": {
           "colorbar": {
            "outlinewidth": 0,
            "ticks": ""
           }
          },
          "colorscale": {
           "diverging": [
            [
             0,
             "#8e0152"
            ],
            [
             0.1,
             "#c51b7d"
            ],
            [
             0.2,
             "#de77ae"
            ],
            [
             0.3,
             "#f1b6da"
            ],
            [
             0.4,
             "#fde0ef"
            ],
            [
             0.5,
             "#f7f7f7"
            ],
            [
             0.6,
             "#e6f5d0"
            ],
            [
             0.7,
             "#b8e186"
            ],
            [
             0.8,
             "#7fbc41"
            ],
            [
             0.9,
             "#4d9221"
            ],
            [
             1,
             "#276419"
            ]
           ],
           "sequential": [
            [
             0,
             "#0d0887"
            ],
            [
             0.1111111111111111,
             "#46039f"
            ],
            [
             0.2222222222222222,
             "#7201a8"
            ],
            [
             0.3333333333333333,
             "#9c179e"
            ],
            [
             0.4444444444444444,
             "#bd3786"
            ],
            [
             0.5555555555555556,
             "#d8576b"
            ],
            [
             0.6666666666666666,
             "#ed7953"
            ],
            [
             0.7777777777777778,
             "#fb9f3a"
            ],
            [
             0.8888888888888888,
             "#fdca26"
            ],
            [
             1,
             "#f0f921"
            ]
           ],
           "sequentialminus": [
            [
             0,
             "#0d0887"
            ],
            [
             0.1111111111111111,
             "#46039f"
            ],
            [
             0.2222222222222222,
             "#7201a8"
            ],
            [
             0.3333333333333333,
             "#9c179e"
            ],
            [
             0.4444444444444444,
             "#bd3786"
            ],
            [
             0.5555555555555556,
             "#d8576b"
            ],
            [
             0.6666666666666666,
             "#ed7953"
            ],
            [
             0.7777777777777778,
             "#fb9f3a"
            ],
            [
             0.8888888888888888,
             "#fdca26"
            ],
            [
             1,
             "#f0f921"
            ]
           ]
          },
          "colorway": [
           "#636efa",
           "#EF553B",
           "#00cc96",
           "#ab63fa",
           "#FFA15A",
           "#19d3f3",
           "#FF6692",
           "#B6E880",
           "#FF97FF",
           "#FECB52"
          ],
          "font": {
           "color": "#2a3f5f"
          },
          "geo": {
           "bgcolor": "white",
           "lakecolor": "white",
           "landcolor": "#E5ECF6",
           "showlakes": true,
           "showland": true,
           "subunitcolor": "white"
          },
          "hoverlabel": {
           "align": "left"
          },
          "hovermode": "closest",
          "mapbox": {
           "style": "light"
          },
          "paper_bgcolor": "white",
          "plot_bgcolor": "#E5ECF6",
          "polar": {
           "angularaxis": {
            "gridcolor": "white",
            "linecolor": "white",
            "ticks": ""
           },
           "bgcolor": "#E5ECF6",
           "radialaxis": {
            "gridcolor": "white",
            "linecolor": "white",
            "ticks": ""
           }
          },
          "scene": {
           "xaxis": {
            "backgroundcolor": "#E5ECF6",
            "gridcolor": "white",
            "gridwidth": 2,
            "linecolor": "white",
            "showbackground": true,
            "ticks": "",
            "zerolinecolor": "white"
           },
           "yaxis": {
            "backgroundcolor": "#E5ECF6",
            "gridcolor": "white",
            "gridwidth": 2,
            "linecolor": "white",
            "showbackground": true,
            "ticks": "",
            "zerolinecolor": "white"
           },
           "zaxis": {
            "backgroundcolor": "#E5ECF6",
            "gridcolor": "white",
            "gridwidth": 2,
            "linecolor": "white",
            "showbackground": true,
            "ticks": "",
            "zerolinecolor": "white"
           }
          },
          "shapedefaults": {
           "line": {
            "color": "#2a3f5f"
           }
          },
          "ternary": {
           "aaxis": {
            "gridcolor": "white",
            "linecolor": "white",
            "ticks": ""
           },
           "baxis": {
            "gridcolor": "white",
            "linecolor": "white",
            "ticks": ""
           },
           "bgcolor": "#E5ECF6",
           "caxis": {
            "gridcolor": "white",
            "linecolor": "white",
            "ticks": ""
           }
          },
          "title": {
           "x": 0.05
          },
          "xaxis": {
           "automargin": true,
           "gridcolor": "white",
           "linecolor": "white",
           "ticks": "",
           "title": {
            "standoff": 15
           },
           "zerolinecolor": "white",
           "zerolinewidth": 2
          },
          "yaxis": {
           "automargin": true,
           "gridcolor": "white",
           "linecolor": "white",
           "ticks": "",
           "title": {
            "standoff": 15
           },
           "zerolinecolor": "white",
           "zerolinewidth": 2
          }
         }
        },
        "title": {
         "text": "U.S. States by Population 2021"
        },
        "xaxis": {
         "anchor": "y",
         "domain": [
          0,
          1
         ],
         "title": {
          "text": "U.S. States"
         }
        },
        "yaxis": {
         "anchor": "x",
         "domain": [
          0,
          1
         ],
         "title": {
          "text": "Population"
         }
        }
       }
      }
     },
     "metadata": {},
     "output_type": "display_data"
    }
   ],
   "source": [
    "dff = df.copy()\n",
    "\n",
    "dff = dff.drop([3])\n",
    "\n",
    "fig = px.bar(dff, x='Name', y='Pop. 2021')\n",
    "fig.update_layout(title='U.S. States by Population 2021',\n",
    "                  xaxis_title='U.S. States',\n",
    "                  yaxis_title='Population')\n",
    "\n",
    "fig.show()"
   ]
  }
 ],
 "metadata": {
  "kernelspec": {
   "display_name": "Python 3.9.12 ('base')",
   "language": "python",
   "name": "python3"
  },
  "language_info": {
   "codemirror_mode": {
    "name": "ipython",
    "version": 3
   },
   "file_extension": ".py",
   "mimetype": "text/x-python",
   "name": "python",
   "nbconvert_exporter": "python",
   "pygments_lexer": "ipython3",
   "version": "3.9.12"
  },
  "orig_nbformat": 4,
  "vscode": {
   "interpreter": {
    "hash": "a80d74e3c348037f163e5c1c52018e63cb0c339fe87c0a065d0e3d8b20179aa0"
   }
  }
 },
 "nbformat": 4,
 "nbformat_minor": 2
}
